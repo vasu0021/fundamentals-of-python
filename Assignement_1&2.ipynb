{
 "cells": [
  {
   "cell_type": "markdown",
   "id": "50f39087-c0b7-4332-9c08-761d2b8a40cb",
   "metadata": {},
   "source": [
    "### Question1 "
   ]
  },
  {
   "cell_type": "code",
   "execution_count": 2,
   "id": "47811c86-4c64-4e3c-83d9-7ab041d644ab",
   "metadata": {},
   "outputs": [
    {
     "name": "stdout",
     "output_type": "stream",
     "text": [
      "Hello Python\n"
     ]
    }
   ],
   "source": [
    "print(\"Hello Python\")"
   ]
  },
  {
   "cell_type": "markdown",
   "id": "635ec66c-6239-48ce-ba34-0cb782091f01",
   "metadata": {},
   "source": [
    "### Question 2"
   ]
  },
  {
   "cell_type": "code",
   "execution_count": 4,
   "id": "971ae988-01d6-476e-9c0f-5c92bd87b47a",
   "metadata": {},
   "outputs": [
    {
     "name": "stdout",
     "output_type": "stream",
     "text": [
      "enter the num_1 : 2\n",
      "enter the num_2 : 2\n"
     ]
    },
    {
     "name": "stdout",
     "output_type": "stream",
     "text": [
      "4\n",
      "1.0\n"
     ]
    }
   ],
   "source": [
    "num_1=int(input(\"enter the num_1 :\"))\n",
    "num_2=int(input(\"enter the num_2 :\"))\n",
    "add= num_1+num_2\n",
    "print(add)\n",
    "division=num_1 / num_2\n",
    "print(division)"
   ]
  },
  {
   "cell_type": "markdown",
   "id": "8f4a810b-b193-416a-9ce8-bf3df118ee35",
   "metadata": {},
   "source": [
    "### Question 3"
   ]
  },
  {
   "cell_type": "code",
   "execution_count": 7,
   "id": "b6d3b2ba-92d8-42d4-94e6-486f5c59f940",
   "metadata": {},
   "outputs": [
    {
     "name": "stdout",
     "output_type": "stream",
     "text": [
      "enter the val B: 34\n",
      "enter the val H: 23.6\n"
     ]
    },
    {
     "name": "stdout",
     "output_type": "stream",
     "text": [
      "401.20000000000005\n"
     ]
    }
   ],
   "source": [
    "base=float(input(\"enter the val B:\"))\n",
    "height=float(input(\"enter the val H:\"))\n",
    "\n",
    "area_of_a_triangle=0.5*base*height\n",
    "\n",
    "print(area_of_a_triangle)"
   ]
  },
  {
   "cell_type": "markdown",
   "id": "70fdb294-52b5-4507-9ee7-5d2dd73f75fa",
   "metadata": {},
   "source": [
    "# .2 "
   ]
  },
  {
   "cell_type": "code",
   "execution_count": 11,
   "id": "bbf30013-f3a9-46de-b274-707fa0c283f4",
   "metadata": {},
   "outputs": [
    {
     "name": "stdout",
     "output_type": "stream",
     "text": [
      "enter the val B:  23\n",
      "enter the val H:  35.6\n"
     ]
    },
    {
     "name": "stdout",
     "output_type": "stream",
     "text": [
      "area_of_a_triangle: 409.40\n"
     ]
    }
   ],
   "source": [
    "base = float(input(\"enter the val B: \"))\n",
    "height = float(input(\"enter the val H: \"))\n",
    "\n",
    "area_of_a_triangle = 0.5 * base * height\n",
    "\n",
    "print(f\"area_of_a_triangle: {area_of_a_triangle:.2f}\")\n"
   ]
  },
  {
   "cell_type": "markdown",
   "id": "0de961e1-8199-41da-a5fd-42ca8f9c9b8c",
   "metadata": {},
   "source": [
    "# question 4 swap"
   ]
  },
  {
   "cell_type": "code",
   "execution_count": 21,
   "id": "d904c3d4-6c06-4c69-a35e-92c36e695627",
   "metadata": {},
   "outputs": [
    {
     "name": "stdout",
     "output_type": "stream",
     "text": [
      "Enter first number:  23\n",
      "Enter second number:  43\n"
     ]
    },
    {
     "name": "stdout",
     "output_type": "stream",
     "text": [
      "43\n",
      "23\n"
     ]
    }
   ],
   "source": [
    "a = int(input(\"Enter first number: \"))\n",
    "b = int(input(\"Enter second number: \"))\n",
    "\n",
    "a, b = b, a\n",
    "\n",
    "print( a)\n",
    "print( b)\n"
   ]
  },
  {
   "cell_type": "markdown",
   "id": "056618c2-4bee-4586-97e6-ce3d11ae766a",
   "metadata": {},
   "source": [
    "# question 5 random"
   ]
  },
  {
   "cell_type": "code",
   "execution_count": 19,
   "id": "fa5517fc-9a4a-4ed9-bb32-8f54ee0f96fd",
   "metadata": {},
   "outputs": [
    {
     "data": {
      "text/plain": [
       "576956"
      ]
     },
     "execution_count": 19,
     "metadata": {},
     "output_type": "execute_result"
    }
   ],
   "source": [
    "import random\n",
    "random.randint(000000, 999999)"
   ]
  },
  {
   "cell_type": "markdown",
   "id": "fc56d32e-7e3a-48f6-a640-40ed074c53fb",
   "metadata": {},
   "source": [
    "### ass 2"
   ]
  },
  {
   "cell_type": "markdown",
   "id": "568b3a07-0b9c-43a3-bf51-c672b9c7eba7",
   "metadata": {},
   "source": [
    "# question 1"
   ]
  },
  {
   "cell_type": "code",
   "execution_count": 25,
   "id": "98127054-5fb0-4701-9ee1-728c267c68ca",
   "metadata": {},
   "outputs": [
    {
     "name": "stdout",
     "output_type": "stream",
     "text": [
      "enter the km : 2\n"
     ]
    },
    {
     "name": "stdout",
     "output_type": "stream",
     "text": [
      "1.242742\n"
     ]
    }
   ],
   "source": [
    "kilometers = float(input(\"enter the km :\"))\n",
    "miles=kilometers*0.621371\n",
    "\n",
    "print(miles)"
   ]
  },
  {
   "cell_type": "code",
   "execution_count": 26,
   "id": "af2ec380-49d5-405e-89a9-db74bbed00cb",
   "metadata": {},
   "outputs": [
    {
     "name": "stdout",
     "output_type": "stream",
     "text": [
      "enter the value : 100\n"
     ]
    },
    {
     "name": "stdout",
     "output_type": "stream",
     "text": [
      "212.0\n"
     ]
    }
   ],
   "source": [
    "celsius = float(input(\"enter the value :\"))\n",
    "fahrenheit = (celsius * 9/5) + 32\n",
    "\n",
    "print(fahrenheit)"
   ]
  },
  {
   "cell_type": "code",
   "execution_count": 34,
   "id": "3bb0fc3c-0fca-4c8b-9f8c-4f0f6f2c2962",
   "metadata": {},
   "outputs": [
    {
     "name": "stdout",
     "output_type": "stream",
     "text": [
      "     March 2025\n",
      "Mo Tu We Th Fr Sa Su\n",
      "                1  2\n",
      " 3  4  5  6  7  8  9\n",
      "10 11 12 13 14 15 16\n",
      "17 18 19 20 21 22 23\n",
      "24 25 26 27 28 29 30\n",
      "31\n",
      "\n"
     ]
    }
   ],
   "source": [
    "import calendar\n",
    "\n",
    "year = 2025\n",
    "month = 3\n",
    "\n",
    "print(calendar.month(year, month))\n"
   ]
  },
  {
   "cell_type": "markdown",
   "id": "71acb9c3-49fa-445d-8f41-93c835036ee1",
   "metadata": {},
   "source": [
    "### question 5\n"
   ]
  },
  {
   "cell_type": "code",
   "execution_count": 30,
   "id": "1ae10fc7-d9fc-48ba-9d61-f4161abde868",
   "metadata": {},
   "outputs": [
    {
     "name": "stdout",
     "output_type": "stream",
     "text": [
      "Enter first number:  234\n",
      "Enter second number:  789\n"
     ]
    },
    {
     "name": "stdout",
     "output_type": "stream",
     "text": [
      "789\n",
      "234\n"
     ]
    }
   ],
   "source": [
    "a = int(input(\"Enter first number: \"))\n",
    "b = int(input(\"Enter second number: \"))\n",
    "\n",
    "a, b = b, a\n",
    "\n",
    "print( a)\n",
    "print( b)\n"
   ]
  },
  {
   "cell_type": "code",
   "execution_count": null,
   "id": "31afaaf3-eb85-44f3-8d48-f991fe3782e0",
   "metadata": {},
   "outputs": [
    {
     "name": "stdout",
     "output_type": "stream",
     "text": [
      "enter num 1: 2\n",
      "enter num2: 3\n",
      "enter num 3: 5\n"
     ]
    },
    {
     "name": "stdout",
     "output_type": "stream",
     "text": [
      "-31\n"
     ]
    }
   ],
   "source": [
    "import math\n",
    "\n",
    "a = int(input(\"enter num 1:\"))\n",
    "b = int(input(\"enter num2:\"))\n",
    "c = int(input(\"enter num 3:\"))\n",
    "\n",
    "d = b**2 - 4*a*c\n",
    "print (d)\n"
   ]
  },
  {
   "cell_type": "code",
   "execution_count": null,
   "id": "fa8d932c-6029-42b5-a677-ce5cbe38c030",
   "metadata": {},
   "outputs": [],
   "source": []
  }
 ],
 "metadata": {
  "kernelspec": {
   "display_name": "Python 3 (ipykernel)",
   "language": "python",
   "name": "python3"
  },
  "language_info": {
   "codemirror_mode": {
    "name": "ipython",
    "version": 3
   },
   "file_extension": ".py",
   "mimetype": "text/x-python",
   "name": "python",
   "nbconvert_exporter": "python",
   "pygments_lexer": "ipython3",
   "version": "3.13.5"
  }
 },
 "nbformat": 4,
 "nbformat_minor": 5
}
